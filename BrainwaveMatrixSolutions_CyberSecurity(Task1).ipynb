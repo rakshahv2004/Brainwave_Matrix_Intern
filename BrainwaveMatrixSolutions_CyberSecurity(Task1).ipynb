{
  "nbformat": 4,
  "nbformat_minor": 0,
  "metadata": {
    "colab": {
      "provenance": [],
      "gpuType": "T4"
    },
    "kernelspec": {
      "name": "python3",
      "display_name": "Python 3"
    },
    "language_info": {
      "name": "python"
    },
    "accelerator": "GPU"
  },
  "cells": [
    {
      "cell_type": "code",
      "execution_count": 1,
      "metadata": {
        "id": "lDz35nMytCxi"
      },
      "outputs": [],
      "source": [
        "# Import necessary libraries\n",
        "import re  # For pattern matching\n",
        "import requests  # For making HTTP requests"
      ]
    },
    {
      "cell_type": "code",
      "source": [
        "def is_suspicious_url(url):\n",
        "    \"\"\"\n",
        "    Analyze a URL for suspicious patterns.\n",
        "    \"\"\"\n",
        "    # Define suspicious patterns\n",
        "    phishing_patterns = [\n",
        "        r\"http[s]?://\\d+\\.\\d+\\.\\d+\\.\\d+\",  # IP-based URL\n",
        "        r\"@\",  # \"@\" symbol in the URL\n",
        "        r\"free|login|verify|click|update\",  # Common phishing keywords\n",
        "    ]\n",
        "\n",
        "    # Check for patterns\n",
        "    for pattern in phishing_patterns:\n",
        "        if re.search(pattern, url):\n",
        "            return True  # Suspicious pattern found\n",
        "    return False  # No suspicious patterns"
      ],
      "metadata": {
        "id": "EtAV18JYtpLe"
      },
      "execution_count": 2,
      "outputs": []
    },
    {
      "cell_type": "code",
      "source": [
        "def check_url_redirects(url):\n",
        "    \"\"\"\n",
        "    Check if a URL redirects and return the final destination.\n",
        "    \"\"\"\n",
        "    try:\n",
        "        # Send an HTTP HEAD request\n",
        "        response = requests.head(url, allow_redirects=True, timeout=5)\n",
        "\n",
        "        # If redirected, the final URL will differ\n",
        "        if response.url != url:\n",
        "            return f\"Redirect detected: {response.url}\"\n",
        "        return \"No redirect\"\n",
        "    except Exception as e:\n",
        "        return f\"Error accessing URL: {e}\""
      ],
      "metadata": {
        "id": "lX7q-6bttzA4"
      },
      "execution_count": 3,
      "outputs": []
    },
    {
      "cell_type": "code",
      "source": [
        "def phishing_link_scanner(url):\n",
        "    \"\"\"\n",
        "    Scan a URL for phishing indicators.\n",
        "    \"\"\"\n",
        "    if is_suspicious_url(url):\n",
        "        return \"Suspicious URL detected (Pattern match)\"\n",
        "\n",
        "    redirection_result = check_url_redirects(url)\n",
        "    return redirection_result"
      ],
      "metadata": {
        "id": "6mNkcJ4gt2ub"
      },
      "execution_count": 4,
      "outputs": []
    },
    {
      "cell_type": "code",
      "source": [
        "# List of test URLs\n",
        "test_urls = [\n",
        "    \"http://192.168.1.1\",  # IP-based URL\n",
        "    \"http://example.com/login\",  # Contains phishing keywords\n",
        "    \"https://securebank.com@malicious-site.net\",  # \"@\" symbol\n",
        "    \"https://www.google.com\"  # Safe URL\n",
        "]\n",
        "\n",
        "# Test the URLs\n",
        "for url in test_urls:\n",
        "    result = phishing_link_scanner(url)\n",
        "    print(f\"URL: {url} -> {result}\")"
      ],
      "metadata": {
        "colab": {
          "base_uri": "https://localhost:8080/"
        },
        "id": "GSjJ3Mlst60Y",
        "outputId": "0b9198cb-a1ce-4807-a7aa-ac107e3ab732"
      },
      "execution_count": 5,
      "outputs": [
        {
          "output_type": "stream",
          "name": "stdout",
          "text": [
            "URL: http://192.168.1.1 -> Suspicious URL detected (Pattern match)\n",
            "URL: http://example.com/login -> Suspicious URL detected (Pattern match)\n",
            "URL: https://securebank.com@malicious-site.net -> Suspicious URL detected (Pattern match)\n",
            "URL: https://www.google.com -> Redirect detected: https://www.google.com/\n"
          ]
        }
      ]
    },
    {
      "cell_type": "markdown",
      "source": [
        "# **Running the Basic URL Pattern Detection**"
      ],
      "metadata": {
        "id": "XVEC-xYAu4iD"
      }
    },
    {
      "cell_type": "code",
      "source": [
        "def is_suspicious_url(url):\n",
        "    phishing_patterns = [\n",
        "        r\"http[s]?://\\d+\\.\\d+\\.\\d+\\.\\d+\",  # IP-based URL\n",
        "        r\"@\",  # \"@\" symbol in the URL\n",
        "        r\"free|login|verify|click|update\",  # Common phishing keywords\n",
        "    ]\n",
        "    for pattern in phishing_patterns:\n",
        "        if re.search(pattern, url):\n",
        "            return True\n",
        "    return False\n",
        "\n",
        "# Test URLs\n",
        "test_urls = [\n",
        "    \"http://192.168.1.1\",\n",
        "    \"http://example.com/login\",\n",
        "    \"https://securebank.com@malicious-site.net\",\n",
        "    \"https://www.google.com\"\n",
        "]\n",
        "\n",
        "# Test pattern detection\n",
        "for url in test_urls:\n",
        "    print(f\"URL: {url} -> Suspicious: {is_suspicious_url(url)}\")"
      ],
      "metadata": {
        "colab": {
          "base_uri": "https://localhost:8080/"
        },
        "id": "0db5oWURuMsq",
        "outputId": "8602b0e3-f5ca-468a-e35a-142a687cceef"
      },
      "execution_count": 6,
      "outputs": [
        {
          "output_type": "stream",
          "name": "stdout",
          "text": [
            "URL: http://192.168.1.1 -> Suspicious: True\n",
            "URL: http://example.com/login -> Suspicious: True\n",
            "URL: https://securebank.com@malicious-site.net -> Suspicious: True\n",
            "URL: https://www.google.com -> Suspicious: False\n"
          ]
        }
      ]
    },
    {
      "cell_type": "markdown",
      "source": [
        "# **Running the URL Redirection Detection**"
      ],
      "metadata": {
        "id": "Zb78k9IjvdYH"
      }
    },
    {
      "cell_type": "code",
      "source": [
        "def check_url_redirects(url):\n",
        "    try:\n",
        "        response = requests.head(url, allow_redirects=True, timeout=5)\n",
        "        if response.url != url:\n",
        "            return f\"Redirect detected: {response.url}\"\n",
        "        return \"No redirect\"\n",
        "    except Exception as e:\n",
        "        return f\"Error accessing URL: {e}\"\n",
        "\n",
        "# Test URL redirections\n",
        "for url in test_urls:\n",
        "    print(f\"URL: {url} -> {check_url_redirects(url)}\")"
      ],
      "metadata": {
        "colab": {
          "base_uri": "https://localhost:8080/"
        },
        "id": "GVmMiwEKuS2_",
        "outputId": "93fc59cf-bcca-46af-e740-4d19832584e9"
      },
      "execution_count": 7,
      "outputs": [
        {
          "output_type": "stream",
          "name": "stdout",
          "text": [
            "URL: http://192.168.1.1 -> Error accessing URL: HTTPConnectionPool(host='192.168.1.1', port=80): Max retries exceeded with url: / (Caused by ConnectTimeoutError(<urllib3.connection.HTTPConnection object at 0x7b65d8b14520>, 'Connection to 192.168.1.1 timed out. (connect timeout=5)'))\n",
            "URL: http://example.com/login -> No redirect\n",
            "URL: https://securebank.com@malicious-site.net -> Error accessing URL: HTTPSConnectionPool(host='malicious-site.net', port=443): Max retries exceeded with url: / (Caused by NameResolutionError(\"<urllib3.connection.HTTPSConnection object at 0x7b65d8b17cd0>: Failed to resolve 'malicious-site.net' ([Errno -2] Name or service not known)\"))\n",
            "URL: https://www.google.com -> Redirect detected: https://www.google.com/\n"
          ]
        }
      ]
    },
    {
      "cell_type": "markdown",
      "source": [
        "# **Running the Full Phishing Link Scanner**"
      ],
      "metadata": {
        "id": "512kXb70vn-8"
      }
    },
    {
      "cell_type": "code",
      "source": [
        "def phishing_link_scanner(url):\n",
        "    if is_suspicious_url(url):\n",
        "        return \"Suspicious URL detected (Pattern match)\"\n",
        "    return check_url_redirects(url)\n",
        "\n",
        "# Full scan\n",
        "for url in test_urls:\n",
        "    result = phishing_link_scanner(url)\n",
        "    print(f\"URL: {url} -> {result}\")"
      ],
      "metadata": {
        "colab": {
          "base_uri": "https://localhost:8080/"
        },
        "id": "u23Fqd2fuaa_",
        "outputId": "02b4612f-42cf-49dd-ff7f-8cf916a25646"
      },
      "execution_count": 8,
      "outputs": [
        {
          "output_type": "stream",
          "name": "stdout",
          "text": [
            "URL: http://192.168.1.1 -> Suspicious URL detected (Pattern match)\n",
            "URL: http://example.com/login -> Suspicious URL detected (Pattern match)\n",
            "URL: https://securebank.com@malicious-site.net -> Suspicious URL detected (Pattern match)\n",
            "URL: https://www.google.com -> Redirect detected: https://www.google.com/\n"
          ]
        }
      ]
    }
  ]
}